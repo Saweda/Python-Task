{
 "cells": [
  {
   "cell_type": "code",
   "execution_count": 1,
   "id": "5ed2c518",
   "metadata": {},
   "outputs": [],
   "source": [
    "import random"
   ]
  },
  {
   "cell_type": "code",
   "execution_count": null,
   "id": "84e8f7ad",
   "metadata": {},
   "outputs": [
    {
     "name": "stdout",
     "output_type": "stream",
     "text": [
      "[-----]\n",
      "[0   0]\n",
      "[  0  ]\n",
      "[0   0]\n",
      "[-----]\n",
      "press y to roll again and n to exit:y\n",
      "\n",
      "\n",
      "[-----]\n",
      "[ 0   ]\n",
      "[     ]\n",
      "[   0 ]\n",
      "[-----]\n"
     ]
    }
   ],
   "source": [
    "x = \"y\"\n",
    "  \n",
    "while x == \"y\":\n",
    "     \n",
    "    # Generates a random number\n",
    "    # between 1 and 6 (including\n",
    "    # both 1 and 6)\n",
    "    no = random.randint(1,6)\n",
    "     \n",
    "    if no == 1:\n",
    "        print(\"[-----]\")\n",
    "        print(\"[     ]\")\n",
    "        print(\"[  0  ]\")\n",
    "        print(\"[     ]\")\n",
    "        print(\"[-----]\")\n",
    "    if no == 2:\n",
    "        print(\"[-----]\")\n",
    "        print(\"[ 0   ]\")\n",
    "        print(\"[     ]\")\n",
    "        print(\"[   0 ]\")\n",
    "        print(\"[-----]\")\n",
    "    if no == 3:\n",
    "        print(\"[-----]\")\n",
    "        print(\"[     ]\")\n",
    "        print(\"[0 0 0]\")\n",
    "        print(\"[     ]\")\n",
    "        print(\"[-----]\")\n",
    "    if no == 4:\n",
    "        print(\"[-----]\")\n",
    "        print(\"[0   0]\")\n",
    "        print(\"[     ]\")\n",
    "        print(\"[0   0]\")\n",
    "        print(\"[-----]\")\n",
    "    if no == 5:\n",
    "        print(\"[-----]\")\n",
    "        print(\"[0   0]\")\n",
    "        print(\"[  0  ]\")\n",
    "        print(\"[0   0]\")\n",
    "        print(\"[-----]\")\n",
    "    if no == 6:\n",
    "        print(\"[-----]\")\n",
    "        print(\"[0 0 0]\")\n",
    "        print(\"[     ]\")\n",
    "        print(\"[0 0 0]\")\n",
    "        print(\"[-----]\")\n",
    "         \n",
    "    x=input(\"press y to roll again and n to exit:\")\n",
    "    print(\"\\n\")"
   ]
  },
  {
   "cell_type": "code",
   "execution_count": 2,
   "id": "5fbfaeb4",
   "metadata": {},
   "outputs": [
    {
     "name": "stdout",
     "output_type": "stream",
     "text": [
      "1.roll the dice    2.To exit \n",
      "what you want to do\n",
      "1\n",
      "4\n",
      "1.roll the dice    2.To exit \n",
      "what you want to do\n",
      "2\n"
     ]
    }
   ],
   "source": [
    "while True:\n",
    "  print('''1.roll the dice    2.To exit ''')\n",
    "  user = int(input(\"what you want to do\\n\"))\n",
    "  if user==1:\n",
    "    number = random.randint(1,6)\n",
    "    print(number)\n",
    "  else:\n",
    "    break"
   ]
  },
  {
   "cell_type": "code",
   "execution_count": null,
   "id": "2f90c6e4",
   "metadata": {},
   "outputs": [],
   "source": []
  }
 ],
 "metadata": {
  "kernelspec": {
   "display_name": "Python 3 (ipykernel)",
   "language": "python",
   "name": "python3"
  },
  "language_info": {
   "codemirror_mode": {
    "name": "ipython",
    "version": 3
   },
   "file_extension": ".py",
   "mimetype": "text/x-python",
   "name": "python",
   "nbconvert_exporter": "python",
   "pygments_lexer": "ipython3",
   "version": "3.9.7"
  }
 },
 "nbformat": 4,
 "nbformat_minor": 5
}
